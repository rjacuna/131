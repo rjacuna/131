{
 "cells": [
  {
   "cell_type": "code",
   "execution_count": 4,
   "metadata": {
    "collapsed": true
   },
   "outputs": [],
   "source": [
    "from sympy import *\n",
    "init_printing(use_unicode=True)"
   ]
  },
  {
   "cell_type": "markdown",
   "metadata": {},
   "source": [
    "# 3.4"
   ]
  },
  {
   "cell_type": "markdown",
   "metadata": {},
   "source": [
    "## 13"
   ]
  },
  {
   "cell_type": "code",
   "execution_count": 13,
   "metadata": {},
   "outputs": [
    {
     "data": {
      "image/png": "[encoded data removed]",
      "text/latex": [
       "$$\\left ( \\left[\\begin{matrix}1 & 0 & 0 & 0 & \\frac{1}{6} & 0 & 0 & 0\\\\0 & 1 & 0 & 0 & 0 & 0 & \\frac{1}{3} & 0\\\\0 & 0 & 1 & 0 & 0 & 0 & - \\frac{2}{3} & -1\\\\0 & 0 & 0 & 1 & - \\frac{1}{6} & 0 & 0 & 0\\\\0 & 0 & 0 & 0 & 0 & 1 & 2 & 3\\end{matrix}\\right], \\quad \\left ( 0, \\quad 1, \\quad 2, \\quad 3, \\quad 5\\right )\\right )$$"
      ],
      "text/plain": [
       "⎛⎡1  0  0  0  1/6   0   0    0 ⎤                 ⎞\n",
       "⎜⎢                             ⎥                 ⎟\n",
       "⎜⎢0  1  0  0   0    0  1/3   0 ⎥                 ⎟\n",
       "⎜⎢                             ⎥                 ⎟\n",
       "⎜⎢0  0  1  0   0    0  -2/3  -1⎥, (0, 1, 2, 3, 5)⎟\n",
       "⎜⎢                             ⎥                 ⎟\n",
       "⎜⎢0  0  0  1  -1/6  0   0    0 ⎥                 ⎟\n",
       "⎜⎢                             ⎥                 ⎟\n",
       "⎝⎣0  0  0  0   0    1   2    3 ⎦                 ⎠"
      ]
     },
     "execution_count": 13,
     "metadata": {},
     "output_type": "execute_result"
    }
   ],
   "source": [
    "Matrix([[1, 6, 0, 0, 0], [0, 0, 0, 3, -2], [0, 0, 3, 0, -1],\n",
    "       [1,0,0,0,0],[0,1,0,0,0],[0,0,1,0,0],[0,0,0,1,0],[0,0,0,0,1]]).T.rref()"
   ]
  }
 ],
 "metadata": {
  "kernelspec": {
   "display_name": "Python 3",
   "language": "python",
   "name": "python3"
  },
  "language_info": {
   "codemirror_mode": {
    "name": "ipython",
    "version": 3
   },
   "file_extension": ".py",
   "mimetype": "text/x-python",
   "name": "python",
   "nbconvert_exporter": "python",
   "pygments_lexer": "ipython3",
   "version": "3.6.2"
  }
 },
 "nbformat": 4,
 "nbformat_minor": 2
}
